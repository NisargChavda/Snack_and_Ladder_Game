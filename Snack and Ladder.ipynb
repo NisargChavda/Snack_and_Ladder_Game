{
 "cells": [
  {
   "cell_type": "code",
   "execution_count": null,
   "id": "be57ab63",
   "metadata": {},
   "outputs": [],
   "source": [
    "import random\n",
    "\n",
    "ladder ={4:56, 22:72, 41:95, 68:97}\n",
    "snake ={48:6, 94:50, 75:10, 98:78}\n",
    "pos1 = 0\n",
    "pos2 = 0\n",
    "def move(pos):\n",
    "    dice=random.randint(1,6)\n",
    "    if dice == 1:\n",
    "        print(f\"Dice:{dice} \\u2680\")\n",
    "    elif dice == 2:\n",
    "        print(f\"Dice:{dice} \\u2681\")\n",
    "    elif dice == 3:\n",
    "        print(f\"Dice:{dice} \\u2682\")\n",
    "    elif dice == 4:\n",
    "        print(f\"Dice:{dice} \\u2683\")\n",
    "    elif dice == 5:\n",
    "        print(f\"Dice:{dice} \\u2684\")\n",
    "    else:\n",
    "        print(f\"Dice:{dice} \\u2685\")\n",
    "    temp_pos = pos\n",
    "    pos = pos + dice\n",
    "    if pos in snake:\n",
    "        print(\"Bitten by snake \\U0001F40D\")\n",
    "        pos = snake[pos]\n",
    "        print(f\"Position:{pos}\")\n",
    "    elif pos in ladder:\n",
    "        print(\"Climbed by ladder #\")\n",
    "        pos = ladder[pos]\n",
    "        print(f\"Position:{pos}\")\n",
    "    elif pos > 100:\n",
    "        print(\"Invalid move try again. \\u274C\")\n",
    "        pos = temp_pos\n",
    "        print(f\"Position:{pos}\")\n",
    "    else:\n",
    "        print(f\"Position:{pos}\")\n",
    "    print(\"\\n\")\n",
    "    return pos\n",
    "    \n",
    "while True:\n",
    "    A = input(\"Player 1 Press \\\"ENTER\\\" to throw dice \")\n",
    "    pos1 = move(pos1)\n",
    "    if pos1 == 100:\n",
    "        print(\"Congratulations Player 1 WINS! \\U0001F3C6 \\nGame By Nisarg Chavda\")\n",
    "        break\n",
    "    B = input(\"Player 2 Press \\\"ENTER\\\" to throw dice \")\n",
    "    pos2 = move(pos2)\n",
    "    if pos2 == 100:\n",
    "        print(\"Congratulations Player 2 WINS! \\U0001F3C6 \\nGame By Nisarg Chavda\")\n",
    "        break"
   ]
  }
 ],
 "metadata": {
  "kernelspec": {
   "display_name": "Python 3",
   "language": "python",
   "name": "python3"
  },
  "language_info": {
   "codemirror_mode": {
    "name": "ipython",
    "version": 3
   },
   "file_extension": ".py",
   "mimetype": "text/x-python",
   "name": "python",
   "nbconvert_exporter": "python",
   "pygments_lexer": "ipython3",
   "version": "3.8.8"
  }
 },
 "nbformat": 4,
 "nbformat_minor": 5
}
